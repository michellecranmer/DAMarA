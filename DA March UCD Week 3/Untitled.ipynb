{
 "cells": [
  {
   "cell_type": "code",
   "execution_count": 4,
   "id": "c8de10dc",
   "metadata": {},
   "outputs": [],
   "source": [
    "import pandas as pd\n",
    "import numpy as np"
   ]
  },
  {
   "cell_type": "code",
   "execution_count": 6,
   "id": "fba93762",
   "metadata": {
    "scrolled": true
   },
   "outputs": [],
   "source": [
    "netflix_data = pd.read_csv('netflix_titles.csv')"
   ]
  },
  {
   "cell_type": "code",
   "execution_count": 8,
   "id": "09b8ae0f",
   "metadata": {},
   "outputs": [
    {
     "name": "stdout",
     "output_type": "stream",
     "text": [
      "(8807, 12)\n"
     ]
    }
   ],
   "source": [
    "print(netflix_data.shape)"
   ]
  },
  {
   "cell_type": "code",
   "execution_count": 9,
   "id": "4dc92025",
   "metadata": {},
   "outputs": [],
   "source": [
    "missing_values_count = netflix_data.isnull().sum()"
   ]
  },
  {
   "cell_type": "code",
   "execution_count": 11,
   "id": "13bb8a9b",
   "metadata": {},
   "outputs": [
    {
     "name": "stdout",
     "output_type": "stream",
     "text": [
      "show_id        0\n",
      "type           0\n",
      "title          0\n",
      "director    2634\n",
      "cast         825\n",
      "dtype: int64\n"
     ]
    }
   ],
   "source": [
    "print(missing_values_count[0:5])"
   ]
  },
  {
   "cell_type": "code",
   "execution_count": 14,
   "id": "f5880d90",
   "metadata": {},
   "outputs": [],
   "source": [
    "cleaned_data = netflix_data.fillna(method=\n",
    "'bfill'\n",
    ", axis=0).fillna(0)"
   ]
  },
  {
   "cell_type": "code",
   "execution_count": 15,
   "id": "ac70139b",
   "metadata": {},
   "outputs": [
    {
     "name": "stdout",
     "output_type": "stream",
     "text": [
      "(8807, 12) (8807, 12)\n"
     ]
    }
   ],
   "source": [
    "drop_duplicates= netflix_data.drop_duplicates(subset=['show_id'])\n",
    "print(netflix_data.shape,drop_duplicates.shape)"
   ]
  },
  {
   "cell_type": "code",
   "execution_count": null,
   "id": "771cc812",
   "metadata": {},
   "outputs": [],
   "source": []
  }
 ],
 "metadata": {
  "kernelspec": {
   "display_name": "Python 3 (ipykernel)",
   "language": "python",
   "name": "python3"
  },
  "language_info": {
   "codemirror_mode": {
    "name": "ipython",
    "version": 3
   },
   "file_extension": ".py",
   "mimetype": "text/x-python",
   "name": "python",
   "nbconvert_exporter": "python",
   "pygments_lexer": "ipython3",
   "version": "3.9.7"
  }
 },
 "nbformat": 4,
 "nbformat_minor": 5
}
