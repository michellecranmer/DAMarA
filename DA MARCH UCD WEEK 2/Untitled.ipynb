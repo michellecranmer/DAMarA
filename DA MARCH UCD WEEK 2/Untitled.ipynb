{
 "cells": [
  {
   "cell_type": "code",
   "execution_count": 1,
   "id": "f6de98e7",
   "metadata": {},
   "outputs": [],
   "source": [
    "import pandas"
   ]
  },
  {
   "cell_type": "code",
   "execution_count": 2,
   "id": "76b6f3c8",
   "metadata": {},
   "outputs": [],
   "source": [
    "data=pandas.read_csv(\"2 Year IBM Stock Data.csv\")"
   ]
  },
  {
   "cell_type": "code",
   "execution_count": 6,
   "id": "611afc4d",
   "metadata": {},
   "outputs": [
    {
     "data": {
      "text/html": [
       "<div>\n",
       "<style scoped>\n",
       "    .dataframe tbody tr th:only-of-type {\n",
       "        vertical-align: middle;\n",
       "    }\n",
       "\n",
       "    .dataframe tbody tr th {\n",
       "        vertical-align: top;\n",
       "    }\n",
       "\n",
       "    .dataframe thead th {\n",
       "        text-align: right;\n",
       "    }\n",
       "</style>\n",
       "<table border=\"1\" class=\"dataframe\">\n",
       "  <thead>\n",
       "    <tr style=\"text-align: right;\">\n",
       "      <th></th>\n",
       "      <th>open</th>\n",
       "      <th>high</th>\n",
       "      <th>low</th>\n",
       "      <th>close</th>\n",
       "      <th>volume</th>\n",
       "    </tr>\n",
       "  </thead>\n",
       "  <tbody>\n",
       "    <tr>\n",
       "      <th>count</th>\n",
       "      <td>216883.000000</td>\n",
       "      <td>216883.000000</td>\n",
       "      <td>216883.000000</td>\n",
       "      <td>216883.000000</td>\n",
       "      <td>2.168830e+05</td>\n",
       "    </tr>\n",
       "    <tr>\n",
       "      <th>mean</th>\n",
       "      <td>118.568888</td>\n",
       "      <td>118.610088</td>\n",
       "      <td>118.527167</td>\n",
       "      <td>118.568678</td>\n",
       "      <td>1.123028e+04</td>\n",
       "    </tr>\n",
       "    <tr>\n",
       "      <th>std</th>\n",
       "      <td>11.032437</td>\n",
       "      <td>11.030216</td>\n",
       "      <td>11.034414</td>\n",
       "      <td>11.032587</td>\n",
       "      <td>2.550945e+04</td>\n",
       "    </tr>\n",
       "    <tr>\n",
       "      <th>min</th>\n",
       "      <td>93.893379</td>\n",
       "      <td>94.001154</td>\n",
       "      <td>93.878046</td>\n",
       "      <td>93.894886</td>\n",
       "      <td>0.000000e+00</td>\n",
       "    </tr>\n",
       "    <tr>\n",
       "      <th>25%</th>\n",
       "      <td>109.270433</td>\n",
       "      <td>109.306157</td>\n",
       "      <td>109.232227</td>\n",
       "      <td>109.272002</td>\n",
       "      <td>3.895500e+03</td>\n",
       "    </tr>\n",
       "    <tr>\n",
       "      <th>50%</th>\n",
       "      <td>116.919510</td>\n",
       "      <td>116.953384</td>\n",
       "      <td>116.880199</td>\n",
       "      <td>116.919510</td>\n",
       "      <td>6.786000e+03</td>\n",
       "    </tr>\n",
       "    <tr>\n",
       "      <th>75%</th>\n",
       "      <td>129.697796</td>\n",
       "      <td>129.731458</td>\n",
       "      <td>129.666234</td>\n",
       "      <td>129.700000</td>\n",
       "      <td>1.175100e+04</td>\n",
       "    </tr>\n",
       "    <tr>\n",
       "      <th>max</th>\n",
       "      <td>140.686324</td>\n",
       "      <td>140.778433</td>\n",
       "      <td>140.363945</td>\n",
       "      <td>140.658692</td>\n",
       "      <td>2.110106e+06</td>\n",
       "    </tr>\n",
       "  </tbody>\n",
       "</table>\n",
       "</div>"
      ],
      "text/plain": [
       "                open           high            low          close  \\\n",
       "count  216883.000000  216883.000000  216883.000000  216883.000000   \n",
       "mean      118.568888     118.610088     118.527167     118.568678   \n",
       "std        11.032437      11.030216      11.034414      11.032587   \n",
       "min        93.893379      94.001154      93.878046      93.894886   \n",
       "25%       109.270433     109.306157     109.232227     109.272002   \n",
       "50%       116.919510     116.953384     116.880199     116.919510   \n",
       "75%       129.697796     129.731458     129.666234     129.700000   \n",
       "max       140.686324     140.778433     140.363945     140.658692   \n",
       "\n",
       "             volume  \n",
       "count  2.168830e+05  \n",
       "mean   1.123028e+04  \n",
       "std    2.550945e+04  \n",
       "min    0.000000e+00  \n",
       "25%    3.895500e+03  \n",
       "50%    6.786000e+03  \n",
       "75%    1.175100e+04  \n",
       "max    2.110106e+06  "
      ]
     },
     "execution_count": 6,
     "metadata": {},
     "output_type": "execute_result"
    }
   ],
   "source": [
    "data.describe()"
   ]
  },
  {
   "cell_type": "code",
   "execution_count": 4,
   "id": "6f3abed8",
   "metadata": {},
   "outputs": [
    {
     "ename": "SyntaxError",
     "evalue": "invalid syntax (Temp/ipykernel_41720/3533830114.py, line 1)",
     "output_type": "error",
     "traceback": [
      "\u001b[1;36m  File \u001b[1;32m\"C:\\Users\\miche\\AppData\\Local\\Temp/ipykernel_41720/3533830114.py\"\u001b[1;36m, line \u001b[1;32m1\u001b[0m\n\u001b[1;33m    import(\"2 Year IBM Stock Data.csv\")\u001b[0m\n\u001b[1;37m          ^\u001b[0m\n\u001b[1;31mSyntaxError\u001b[0m\u001b[1;31m:\u001b[0m invalid syntax\n"
     ]
    }
   ],
   "source": [
    "import(\"2 Year IBM Stock Data.csv\")"
   ]
  },
  {
   "cell_type": "code",
   "execution_count": null,
   "id": "1223b777",
   "metadata": {},
   "outputs": [],
   "source": []
  }
 ],
 "metadata": {
  "kernelspec": {
   "display_name": "Python 3 (ipykernel)",
   "language": "python",
   "name": "python3"
  },
  "language_info": {
   "codemirror_mode": {
    "name": "ipython",
    "version": 3
   },
   "file_extension": ".py",
   "mimetype": "text/x-python",
   "name": "python",
   "nbconvert_exporter": "python",
   "pygments_lexer": "ipython3",
   "version": "3.9.7"
  }
 },
 "nbformat": 4,
 "nbformat_minor": 5
}
