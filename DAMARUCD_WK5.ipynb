{
  "nbformat": 4,
  "nbformat_minor": 0,
  "metadata": {
    "colab": {
      "name": "DAMARUCD_WK5.ipynb",
      "provenance": [],
      "collapsed_sections": [],
      "authorship_tag": "ABX9TyOZ+52QjwcdJEN2F0h5PZYN",
      "include_colab_link": true
    },
    "kernelspec": {
      "name": "python3",
      "display_name": "Python 3"
    },
    "language_info": {
      "name": "python"
    }
  },
  "cells": [
    {
      "cell_type": "markdown",
      "metadata": {
        "id": "view-in-github",
        "colab_type": "text"
      },
      "source": [
        "<a href=\"https://colab.research.google.com/github/michellecranmer/DAMarA/blob/master/DAMARUCD_WK5.ipynb\" target=\"_parent\"><img src=\"https://colab.research.google.com/assets/colab-badge.svg\" alt=\"Open In Colab\"/></a>"
      ]
    },
    {
      "cell_type": "code",
      "execution_count": 34,
      "metadata": {
        "id": "fWToDtUaksTt"
      },
      "outputs": [],
      "source": [
        "import requests\n",
        "import pandas as pd\n",
        "import matplotlib.pyplot as plt\n",
        "import time\n",
        "plt.style.use('seaborn')"
      ]
    },
    {
      "cell_type": "code",
      "source": [
        "function=requests.get('https://www.alphavantage.co/query?function=REAL_GDP&interval=annual&apikey=VL3RK94YY336VZ0Y')"
      ],
      "metadata": {
        "id": "kYmi0WnDldEb"
      },
      "execution_count": 14,
      "outputs": []
    },
    {
      "cell_type": "code",
      "source": [
        "data1 = function.json()"
      ],
      "metadata": {
        "id": "MoTWGLD5m1ae"
      },
      "execution_count": 15,
      "outputs": []
    },
    {
      "cell_type": "code",
      "source": [
        "function.status_code"
      ],
      "metadata": {
        "colab": {
          "base_uri": "https://localhost:8080/"
        },
        "id": "qQ6IwwmEm98M",
        "outputId": "b6f7e0a4-3d95-4d75-8c26-d38b83c0f44d"
      },
      "execution_count": null,
      "outputs": [
        {
          "output_type": "execute_result",
          "data": {
            "text/plain": [
              "200"
            ]
          },
          "metadata": {},
          "execution_count": 8
        }
      ]
    },
    {
      "cell_type": "code",
      "source": [
        "print(data1)"
      ],
      "metadata": {
        "colab": {
          "base_uri": "https://localhost:8080/"
        },
        "id": "IaITvnPrncuv",
        "outputId": "41422799-2714-4dc4-8d8c-db71e9b01bc5"
      },
      "execution_count": 16,
      "outputs": [
        {
          "output_type": "stream",
          "name": "stdout",
          "text": [
            "{'name': 'Real Gross Domestic Product', 'interval': 'annual', 'unit': 'billions of dollars', 'data': [{'date': '2021-01-01', 'value': '19427.287'}, {'date': '2020-01-01', 'value': '18384.687'}, {'date': '2019-01-01', 'value': '19032.672'}, {'date': '2018-01-01', 'value': '18606.787'}, {'date': '2017-01-01', 'value': '18079.084'}, {'date': '2016-01-01', 'value': '17680.274'}, {'date': '2015-01-01', 'value': '17390.295'}, {'date': '2014-01-01', 'value': '16932.051'}, {'date': '2013-01-01', 'value': '16553.348'}, {'date': '2012-01-01', 'value': '16253.97'}, {'date': '2011-01-01', 'value': '15891.534'}, {'date': '2010-01-01', 'value': '15648.991'}, {'date': '2009-01-01', 'value': '15236.262'}, {'date': '2008-01-01', 'value': '15642.962'}, {'date': '2007-01-01', 'value': '15623.871'}, {'date': '2006-01-01', 'value': '15315.943'}, {'date': '2005-01-01', 'value': '14901.269'}, {'date': '2004-01-01', 'value': '14399.696'}, {'date': '2003-01-01', 'value': '13865.519'}, {'date': '2002-01-01', 'value': '13488.357'}, {'date': '2001-01-01', 'value': '13263.417'}, {'date': '2000-01-01', 'value': '13138.035'}, {'date': '1999-01-01', 'value': '12623.361'}, {'date': '1998-01-01', 'value': '12045.824'}, {'date': '1997-01-01', 'value': '11529.157'}, {'date': '1996-01-01', 'value': '11038.266'}, {'date': '1995-01-01', 'value': '10636.979'}, {'date': '1994-01-01', 'value': '10358.923'}, {'date': '1993-01-01', 'value': '9957.746'}, {'date': '1992-01-01', 'value': '9691.069'}, {'date': '1991-01-01', 'value': '9361.322'}, {'date': '1990-01-01', 'value': '9371.468'}, {'date': '1989-01-01', 'value': '9197.997'}, {'date': '1988-01-01', 'value': '8872.154'}, {'date': '1987-01-01', 'value': '8516.418'}, {'date': '1986-01-01', 'value': '8231.664'}, {'date': '1985-01-01', 'value': '7956.17'}, {'date': '1984-01-01', 'value': '7637.704'}, {'date': '1983-01-01', 'value': '7122.29'}, {'date': '1982-01-01', 'value': '6810.12'}, {'date': '1981-01-01', 'value': '6935.153'}, {'date': '1980-01-01', 'value': '6763.514'}, {'date': '1979-01-01', 'value': '6780.924'}, {'date': '1978-01-01', 'value': '6572.819'}, {'date': '1977-01-01', 'value': '6228.076'}, {'date': '1976-01-01', 'value': '5952.809'}, {'date': '1975-01-01', 'value': '5648.462'}, {'date': '1974-01-01', 'value': '5660.091'}, {'date': '1973-01-01', 'value': '5690.853'}, {'date': '1972-01-01', 'value': '5386.733'}, {'date': '1971-01-01', 'value': '5117.603'}, {'date': '1970-01-01', 'value': '4954.436'}, {'date': '1969-01-01', 'value': '4945.235'}, {'date': '1968-01-01', 'value': '4795.387'}, {'date': '1967-01-01', 'value': '4570.709'}, {'date': '1966-01-01', 'value': '4448.703'}, {'date': '1965-01-01', 'value': '4173.424'}, {'date': '1964-01-01', 'value': '3918.791'}, {'date': '1963-01-01', 'value': '3705.318'}, {'date': '1962-01-01', 'value': '3550.684'}, {'date': '1961-01-01', 'value': '3345.69'}, {'date': '1960-01-01', 'value': '3262.061'}, {'date': '1959-01-01', 'value': '3180.22'}, {'date': '1958-01-01', 'value': '2973.982'}, {'date': '1957-01-01', 'value': '2996.178'}, {'date': '1956-01-01', 'value': '2934.391'}, {'date': '1955-01-01', 'value': '2873.16'}, {'date': '1954-01-01', 'value': '2681.854'}, {'date': '1953-01-01', 'value': '2697.456'}, {'date': '1952-01-01', 'value': '2576.658'}, {'date': '1951-01-01', 'value': '2475.449'}, {'date': '1950-01-01', 'value': '2291.111'}, {'date': '1949-01-01', 'value': '2107.999'}, {'date': '1948-01-01', 'value': '2119.959'}, {'date': '1947-01-01', 'value': '2036.204'}, {'date': '1946-01-01', 'value': '2059.782'}, {'date': '1945-01-01', 'value': '2330.217'}, {'date': '1944-01-01', 'value': '2353.234'}, {'date': '1943-01-01', 'value': '2179.879'}, {'date': '1942-01-01', 'value': '1862.772'}, {'date': '1941-01-01', 'value': '1566.848'}, {'date': '1940-01-01', 'value': '1331.06'}, {'date': '1939-01-01', 'value': '1223.21'}, {'date': '1938-01-01', 'value': '1132.338'}, {'date': '1937-01-01', 'value': '1171.144'}, {'date': '1936-01-01', 'value': '1114.052'}, {'date': '1935-01-01', 'value': '986.905'}, {'date': '1934-01-01', 'value': '906.213'}, {'date': '1933-01-01', 'value': '817.824'}, {'date': '1932-01-01', 'value': '828.061'}, {'date': '1931-01-01', 'value': '950.686'}, {'date': '1930-01-01', 'value': '1015.751'}, {'date': '1929-01-01', 'value': '1110.206'}]}\n"
          ]
        }
      ]
    },
    {
      "cell_type": "code",
      "source": [
        "for key, value in data1.items():\n",
        "    print(key, \":\", value)"
      ],
      "metadata": {
        "colab": {
          "base_uri": "https://localhost:8080/"
        },
        "id": "vGqBlofpny4G",
        "outputId": "8f15f85f-586c-4b78-bbd1-a82624900ae5"
      },
      "execution_count": 17,
      "outputs": [
        {
          "output_type": "stream",
          "name": "stdout",
          "text": [
            "name : Real Gross Domestic Product\n",
            "interval : annual\n",
            "unit : billions of dollars\n",
            "data : [{'date': '2021-01-01', 'value': '19427.287'}, {'date': '2020-01-01', 'value': '18384.687'}, {'date': '2019-01-01', 'value': '19032.672'}, {'date': '2018-01-01', 'value': '18606.787'}, {'date': '2017-01-01', 'value': '18079.084'}, {'date': '2016-01-01', 'value': '17680.274'}, {'date': '2015-01-01', 'value': '17390.295'}, {'date': '2014-01-01', 'value': '16932.051'}, {'date': '2013-01-01', 'value': '16553.348'}, {'date': '2012-01-01', 'value': '16253.97'}, {'date': '2011-01-01', 'value': '15891.534'}, {'date': '2010-01-01', 'value': '15648.991'}, {'date': '2009-01-01', 'value': '15236.262'}, {'date': '2008-01-01', 'value': '15642.962'}, {'date': '2007-01-01', 'value': '15623.871'}, {'date': '2006-01-01', 'value': '15315.943'}, {'date': '2005-01-01', 'value': '14901.269'}, {'date': '2004-01-01', 'value': '14399.696'}, {'date': '2003-01-01', 'value': '13865.519'}, {'date': '2002-01-01', 'value': '13488.357'}, {'date': '2001-01-01', 'value': '13263.417'}, {'date': '2000-01-01', 'value': '13138.035'}, {'date': '1999-01-01', 'value': '12623.361'}, {'date': '1998-01-01', 'value': '12045.824'}, {'date': '1997-01-01', 'value': '11529.157'}, {'date': '1996-01-01', 'value': '11038.266'}, {'date': '1995-01-01', 'value': '10636.979'}, {'date': '1994-01-01', 'value': '10358.923'}, {'date': '1993-01-01', 'value': '9957.746'}, {'date': '1992-01-01', 'value': '9691.069'}, {'date': '1991-01-01', 'value': '9361.322'}, {'date': '1990-01-01', 'value': '9371.468'}, {'date': '1989-01-01', 'value': '9197.997'}, {'date': '1988-01-01', 'value': '8872.154'}, {'date': '1987-01-01', 'value': '8516.418'}, {'date': '1986-01-01', 'value': '8231.664'}, {'date': '1985-01-01', 'value': '7956.17'}, {'date': '1984-01-01', 'value': '7637.704'}, {'date': '1983-01-01', 'value': '7122.29'}, {'date': '1982-01-01', 'value': '6810.12'}, {'date': '1981-01-01', 'value': '6935.153'}, {'date': '1980-01-01', 'value': '6763.514'}, {'date': '1979-01-01', 'value': '6780.924'}, {'date': '1978-01-01', 'value': '6572.819'}, {'date': '1977-01-01', 'value': '6228.076'}, {'date': '1976-01-01', 'value': '5952.809'}, {'date': '1975-01-01', 'value': '5648.462'}, {'date': '1974-01-01', 'value': '5660.091'}, {'date': '1973-01-01', 'value': '5690.853'}, {'date': '1972-01-01', 'value': '5386.733'}, {'date': '1971-01-01', 'value': '5117.603'}, {'date': '1970-01-01', 'value': '4954.436'}, {'date': '1969-01-01', 'value': '4945.235'}, {'date': '1968-01-01', 'value': '4795.387'}, {'date': '1967-01-01', 'value': '4570.709'}, {'date': '1966-01-01', 'value': '4448.703'}, {'date': '1965-01-01', 'value': '4173.424'}, {'date': '1964-01-01', 'value': '3918.791'}, {'date': '1963-01-01', 'value': '3705.318'}, {'date': '1962-01-01', 'value': '3550.684'}, {'date': '1961-01-01', 'value': '3345.69'}, {'date': '1960-01-01', 'value': '3262.061'}, {'date': '1959-01-01', 'value': '3180.22'}, {'date': '1958-01-01', 'value': '2973.982'}, {'date': '1957-01-01', 'value': '2996.178'}, {'date': '1956-01-01', 'value': '2934.391'}, {'date': '1955-01-01', 'value': '2873.16'}, {'date': '1954-01-01', 'value': '2681.854'}, {'date': '1953-01-01', 'value': '2697.456'}, {'date': '1952-01-01', 'value': '2576.658'}, {'date': '1951-01-01', 'value': '2475.449'}, {'date': '1950-01-01', 'value': '2291.111'}, {'date': '1949-01-01', 'value': '2107.999'}, {'date': '1948-01-01', 'value': '2119.959'}, {'date': '1947-01-01', 'value': '2036.204'}, {'date': '1946-01-01', 'value': '2059.782'}, {'date': '1945-01-01', 'value': '2330.217'}, {'date': '1944-01-01', 'value': '2353.234'}, {'date': '1943-01-01', 'value': '2179.879'}, {'date': '1942-01-01', 'value': '1862.772'}, {'date': '1941-01-01', 'value': '1566.848'}, {'date': '1940-01-01', 'value': '1331.06'}, {'date': '1939-01-01', 'value': '1223.21'}, {'date': '1938-01-01', 'value': '1132.338'}, {'date': '1937-01-01', 'value': '1171.144'}, {'date': '1936-01-01', 'value': '1114.052'}, {'date': '1935-01-01', 'value': '986.905'}, {'date': '1934-01-01', 'value': '906.213'}, {'date': '1933-01-01', 'value': '817.824'}, {'date': '1932-01-01', 'value': '828.061'}, {'date': '1931-01-01', 'value': '950.686'}, {'date': '1930-01-01', 'value': '1015.751'}, {'date': '1929-01-01', 'value': '1110.206'}]\n"
          ]
        }
      ]
    },
    {
      "cell_type": "code",
      "source": [
        "pd.DataFrame(data1)"
      ],
      "metadata": {
        "colab": {
          "base_uri": "https://localhost:8080/",
          "height": 423
        },
        "id": "T1HmPm3Eo5kZ",
        "outputId": "7870c616-708b-46f5-98b9-1c73ccfe731b"
      },
      "execution_count": 18,
      "outputs": [
        {
          "output_type": "execute_result",
          "data": {
            "text/plain": [
              "                           name interval                 unit  \\\n",
              "0   Real Gross Domestic Product   annual  billions of dollars   \n",
              "1   Real Gross Domestic Product   annual  billions of dollars   \n",
              "2   Real Gross Domestic Product   annual  billions of dollars   \n",
              "3   Real Gross Domestic Product   annual  billions of dollars   \n",
              "4   Real Gross Domestic Product   annual  billions of dollars   \n",
              "..                          ...      ...                  ...   \n",
              "88  Real Gross Domestic Product   annual  billions of dollars   \n",
              "89  Real Gross Domestic Product   annual  billions of dollars   \n",
              "90  Real Gross Domestic Product   annual  billions of dollars   \n",
              "91  Real Gross Domestic Product   annual  billions of dollars   \n",
              "92  Real Gross Domestic Product   annual  billions of dollars   \n",
              "\n",
              "                                            data  \n",
              "0   {'date': '2021-01-01', 'value': '19427.287'}  \n",
              "1   {'date': '2020-01-01', 'value': '18384.687'}  \n",
              "2   {'date': '2019-01-01', 'value': '19032.672'}  \n",
              "3   {'date': '2018-01-01', 'value': '18606.787'}  \n",
              "4   {'date': '2017-01-01', 'value': '18079.084'}  \n",
              "..                                           ...  \n",
              "88    {'date': '1933-01-01', 'value': '817.824'}  \n",
              "89    {'date': '1932-01-01', 'value': '828.061'}  \n",
              "90    {'date': '1931-01-01', 'value': '950.686'}  \n",
              "91   {'date': '1930-01-01', 'value': '1015.751'}  \n",
              "92   {'date': '1929-01-01', 'value': '1110.206'}  \n",
              "\n",
              "[93 rows x 4 columns]"
            ],
            "text/html": [
              "\n",
              "  <div id=\"df-574804e2-de8b-4716-84ba-f51e415ca19d\">\n",
              "    <div class=\"colab-df-container\">\n",
              "      <div>\n",
              "<style scoped>\n",
              "    .dataframe tbody tr th:only-of-type {\n",
              "        vertical-align: middle;\n",
              "    }\n",
              "\n",
              "    .dataframe tbody tr th {\n",
              "        vertical-align: top;\n",
              "    }\n",
              "\n",
              "    .dataframe thead th {\n",
              "        text-align: right;\n",
              "    }\n",
              "</style>\n",
              "<table border=\"1\" class=\"dataframe\">\n",
              "  <thead>\n",
              "    <tr style=\"text-align: right;\">\n",
              "      <th></th>\n",
              "      <th>name</th>\n",
              "      <th>interval</th>\n",
              "      <th>unit</th>\n",
              "      <th>data</th>\n",
              "    </tr>\n",
              "  </thead>\n",
              "  <tbody>\n",
              "    <tr>\n",
              "      <th>0</th>\n",
              "      <td>Real Gross Domestic Product</td>\n",
              "      <td>annual</td>\n",
              "      <td>billions of dollars</td>\n",
              "      <td>{'date': '2021-01-01', 'value': '19427.287'}</td>\n",
              "    </tr>\n",
              "    <tr>\n",
              "      <th>1</th>\n",
              "      <td>Real Gross Domestic Product</td>\n",
              "      <td>annual</td>\n",
              "      <td>billions of dollars</td>\n",
              "      <td>{'date': '2020-01-01', 'value': '18384.687'}</td>\n",
              "    </tr>\n",
              "    <tr>\n",
              "      <th>2</th>\n",
              "      <td>Real Gross Domestic Product</td>\n",
              "      <td>annual</td>\n",
              "      <td>billions of dollars</td>\n",
              "      <td>{'date': '2019-01-01', 'value': '19032.672'}</td>\n",
              "    </tr>\n",
              "    <tr>\n",
              "      <th>3</th>\n",
              "      <td>Real Gross Domestic Product</td>\n",
              "      <td>annual</td>\n",
              "      <td>billions of dollars</td>\n",
              "      <td>{'date': '2018-01-01', 'value': '18606.787'}</td>\n",
              "    </tr>\n",
              "    <tr>\n",
              "      <th>4</th>\n",
              "      <td>Real Gross Domestic Product</td>\n",
              "      <td>annual</td>\n",
              "      <td>billions of dollars</td>\n",
              "      <td>{'date': '2017-01-01', 'value': '18079.084'}</td>\n",
              "    </tr>\n",
              "    <tr>\n",
              "      <th>...</th>\n",
              "      <td>...</td>\n",
              "      <td>...</td>\n",
              "      <td>...</td>\n",
              "      <td>...</td>\n",
              "    </tr>\n",
              "    <tr>\n",
              "      <th>88</th>\n",
              "      <td>Real Gross Domestic Product</td>\n",
              "      <td>annual</td>\n",
              "      <td>billions of dollars</td>\n",
              "      <td>{'date': '1933-01-01', 'value': '817.824'}</td>\n",
              "    </tr>\n",
              "    <tr>\n",
              "      <th>89</th>\n",
              "      <td>Real Gross Domestic Product</td>\n",
              "      <td>annual</td>\n",
              "      <td>billions of dollars</td>\n",
              "      <td>{'date': '1932-01-01', 'value': '828.061'}</td>\n",
              "    </tr>\n",
              "    <tr>\n",
              "      <th>90</th>\n",
              "      <td>Real Gross Domestic Product</td>\n",
              "      <td>annual</td>\n",
              "      <td>billions of dollars</td>\n",
              "      <td>{'date': '1931-01-01', 'value': '950.686'}</td>\n",
              "    </tr>\n",
              "    <tr>\n",
              "      <th>91</th>\n",
              "      <td>Real Gross Domestic Product</td>\n",
              "      <td>annual</td>\n",
              "      <td>billions of dollars</td>\n",
              "      <td>{'date': '1930-01-01', 'value': '1015.751'}</td>\n",
              "    </tr>\n",
              "    <tr>\n",
              "      <th>92</th>\n",
              "      <td>Real Gross Domestic Product</td>\n",
              "      <td>annual</td>\n",
              "      <td>billions of dollars</td>\n",
              "      <td>{'date': '1929-01-01', 'value': '1110.206'}</td>\n",
              "    </tr>\n",
              "  </tbody>\n",
              "</table>\n",
              "<p>93 rows × 4 columns</p>\n",
              "</div>\n",
              "      <button class=\"colab-df-convert\" onclick=\"convertToInteractive('df-574804e2-de8b-4716-84ba-f51e415ca19d')\"\n",
              "              title=\"Convert this dataframe to an interactive table.\"\n",
              "              style=\"display:none;\">\n",
              "        \n",
              "  <svg xmlns=\"http://www.w3.org/2000/svg\" height=\"24px\"viewBox=\"0 0 24 24\"\n",
              "       width=\"24px\">\n",
              "    <path d=\"M0 0h24v24H0V0z\" fill=\"none\"/>\n",
              "    <path d=\"M18.56 5.44l.94 2.06.94-2.06 2.06-.94-2.06-.94-.94-2.06-.94 2.06-2.06.94zm-11 1L8.5 8.5l.94-2.06 2.06-.94-2.06-.94L8.5 2.5l-.94 2.06-2.06.94zm10 10l.94 2.06.94-2.06 2.06-.94-2.06-.94-.94-2.06-.94 2.06-2.06.94z\"/><path d=\"M17.41 7.96l-1.37-1.37c-.4-.4-.92-.59-1.43-.59-.52 0-1.04.2-1.43.59L10.3 9.45l-7.72 7.72c-.78.78-.78 2.05 0 2.83L4 21.41c.39.39.9.59 1.41.59.51 0 1.02-.2 1.41-.59l7.78-7.78 2.81-2.81c.8-.78.8-2.07 0-2.86zM5.41 20L4 18.59l7.72-7.72 1.47 1.35L5.41 20z\"/>\n",
              "  </svg>\n",
              "      </button>\n",
              "      \n",
              "  <style>\n",
              "    .colab-df-container {\n",
              "      display:flex;\n",
              "      flex-wrap:wrap;\n",
              "      gap: 12px;\n",
              "    }\n",
              "\n",
              "    .colab-df-convert {\n",
              "      background-color: #E8F0FE;\n",
              "      border: none;\n",
              "      border-radius: 50%;\n",
              "      cursor: pointer;\n",
              "      display: none;\n",
              "      fill: #1967D2;\n",
              "      height: 32px;\n",
              "      padding: 0 0 0 0;\n",
              "      width: 32px;\n",
              "    }\n",
              "\n",
              "    .colab-df-convert:hover {\n",
              "      background-color: #E2EBFA;\n",
              "      box-shadow: 0px 1px 2px rgba(60, 64, 67, 0.3), 0px 1px 3px 1px rgba(60, 64, 67, 0.15);\n",
              "      fill: #174EA6;\n",
              "    }\n",
              "\n",
              "    [theme=dark] .colab-df-convert {\n",
              "      background-color: #3B4455;\n",
              "      fill: #D2E3FC;\n",
              "    }\n",
              "\n",
              "    [theme=dark] .colab-df-convert:hover {\n",
              "      background-color: #434B5C;\n",
              "      box-shadow: 0px 1px 3px 1px rgba(0, 0, 0, 0.15);\n",
              "      filter: drop-shadow(0px 1px 2px rgba(0, 0, 0, 0.3));\n",
              "      fill: #FFFFFF;\n",
              "    }\n",
              "  </style>\n",
              "\n",
              "      <script>\n",
              "        const buttonEl =\n",
              "          document.querySelector('#df-574804e2-de8b-4716-84ba-f51e415ca19d button.colab-df-convert');\n",
              "        buttonEl.style.display =\n",
              "          google.colab.kernel.accessAllowed ? 'block' : 'none';\n",
              "\n",
              "        async function convertToInteractive(key) {\n",
              "          const element = document.querySelector('#df-574804e2-de8b-4716-84ba-f51e415ca19d');\n",
              "          const dataTable =\n",
              "            await google.colab.kernel.invokeFunction('convertToInteractive',\n",
              "                                                     [key], {});\n",
              "          if (!dataTable) return;\n",
              "\n",
              "          const docLinkHtml = 'Like what you see? Visit the ' +\n",
              "            '<a target=\"_blank\" href=https://colab.research.google.com/notebooks/data_table.ipynb>data table notebook</a>'\n",
              "            + ' to learn more about interactive tables.';\n",
              "          element.innerHTML = '';\n",
              "          dataTable['output_type'] = 'display_data';\n",
              "          await google.colab.output.renderOutput(dataTable, element);\n",
              "          const docLink = document.createElement('div');\n",
              "          docLink.innerHTML = docLinkHtml;\n",
              "          element.appendChild(docLink);\n",
              "        }\n",
              "      </script>\n",
              "    </div>\n",
              "  </div>\n",
              "  "
            ]
          },
          "metadata": {},
          "execution_count": 18
        }
      ]
    },
    {
      "cell_type": "code",
      "source": [
        "GDP=data1['data']"
      ],
      "metadata": {
        "id": "N1aS75jW2mPa"
      },
      "execution_count": 19,
      "outputs": []
    },
    {
      "cell_type": "code",
      "source": [
        "data_dict = GDP"
      ],
      "metadata": {
        "id": "X6XUk6wz3MVm"
      },
      "execution_count": 20,
      "outputs": []
    },
    {
      "cell_type": "code",
      "source": [
        "from typing import List\n",
        "data_list = list(GDP)"
      ],
      "metadata": {
        "id": "OqZXid6N3wj2"
      },
      "execution_count": 21,
      "outputs": []
    },
    {
      "cell_type": "code",
      "source": [
        "print(data_list)"
      ],
      "metadata": {
        "colab": {
          "base_uri": "https://localhost:8080/"
        },
        "id": "oEw_oTfM4ZnI",
        "outputId": "f4c89729-f658-448e-852b-f08af37c6243"
      },
      "execution_count": 22,
      "outputs": [
        {
          "output_type": "stream",
          "name": "stdout",
          "text": [
            "[{'date': '2021-01-01', 'value': '19427.287'}, {'date': '2020-01-01', 'value': '18384.687'}, {'date': '2019-01-01', 'value': '19032.672'}, {'date': '2018-01-01', 'value': '18606.787'}, {'date': '2017-01-01', 'value': '18079.084'}, {'date': '2016-01-01', 'value': '17680.274'}, {'date': '2015-01-01', 'value': '17390.295'}, {'date': '2014-01-01', 'value': '16932.051'}, {'date': '2013-01-01', 'value': '16553.348'}, {'date': '2012-01-01', 'value': '16253.97'}, {'date': '2011-01-01', 'value': '15891.534'}, {'date': '2010-01-01', 'value': '15648.991'}, {'date': '2009-01-01', 'value': '15236.262'}, {'date': '2008-01-01', 'value': '15642.962'}, {'date': '2007-01-01', 'value': '15623.871'}, {'date': '2006-01-01', 'value': '15315.943'}, {'date': '2005-01-01', 'value': '14901.269'}, {'date': '2004-01-01', 'value': '14399.696'}, {'date': '2003-01-01', 'value': '13865.519'}, {'date': '2002-01-01', 'value': '13488.357'}, {'date': '2001-01-01', 'value': '13263.417'}, {'date': '2000-01-01', 'value': '13138.035'}, {'date': '1999-01-01', 'value': '12623.361'}, {'date': '1998-01-01', 'value': '12045.824'}, {'date': '1997-01-01', 'value': '11529.157'}, {'date': '1996-01-01', 'value': '11038.266'}, {'date': '1995-01-01', 'value': '10636.979'}, {'date': '1994-01-01', 'value': '10358.923'}, {'date': '1993-01-01', 'value': '9957.746'}, {'date': '1992-01-01', 'value': '9691.069'}, {'date': '1991-01-01', 'value': '9361.322'}, {'date': '1990-01-01', 'value': '9371.468'}, {'date': '1989-01-01', 'value': '9197.997'}, {'date': '1988-01-01', 'value': '8872.154'}, {'date': '1987-01-01', 'value': '8516.418'}, {'date': '1986-01-01', 'value': '8231.664'}, {'date': '1985-01-01', 'value': '7956.17'}, {'date': '1984-01-01', 'value': '7637.704'}, {'date': '1983-01-01', 'value': '7122.29'}, {'date': '1982-01-01', 'value': '6810.12'}, {'date': '1981-01-01', 'value': '6935.153'}, {'date': '1980-01-01', 'value': '6763.514'}, {'date': '1979-01-01', 'value': '6780.924'}, {'date': '1978-01-01', 'value': '6572.819'}, {'date': '1977-01-01', 'value': '6228.076'}, {'date': '1976-01-01', 'value': '5952.809'}, {'date': '1975-01-01', 'value': '5648.462'}, {'date': '1974-01-01', 'value': '5660.091'}, {'date': '1973-01-01', 'value': '5690.853'}, {'date': '1972-01-01', 'value': '5386.733'}, {'date': '1971-01-01', 'value': '5117.603'}, {'date': '1970-01-01', 'value': '4954.436'}, {'date': '1969-01-01', 'value': '4945.235'}, {'date': '1968-01-01', 'value': '4795.387'}, {'date': '1967-01-01', 'value': '4570.709'}, {'date': '1966-01-01', 'value': '4448.703'}, {'date': '1965-01-01', 'value': '4173.424'}, {'date': '1964-01-01', 'value': '3918.791'}, {'date': '1963-01-01', 'value': '3705.318'}, {'date': '1962-01-01', 'value': '3550.684'}, {'date': '1961-01-01', 'value': '3345.69'}, {'date': '1960-01-01', 'value': '3262.061'}, {'date': '1959-01-01', 'value': '3180.22'}, {'date': '1958-01-01', 'value': '2973.982'}, {'date': '1957-01-01', 'value': '2996.178'}, {'date': '1956-01-01', 'value': '2934.391'}, {'date': '1955-01-01', 'value': '2873.16'}, {'date': '1954-01-01', 'value': '2681.854'}, {'date': '1953-01-01', 'value': '2697.456'}, {'date': '1952-01-01', 'value': '2576.658'}, {'date': '1951-01-01', 'value': '2475.449'}, {'date': '1950-01-01', 'value': '2291.111'}, {'date': '1949-01-01', 'value': '2107.999'}, {'date': '1948-01-01', 'value': '2119.959'}, {'date': '1947-01-01', 'value': '2036.204'}, {'date': '1946-01-01', 'value': '2059.782'}, {'date': '1945-01-01', 'value': '2330.217'}, {'date': '1944-01-01', 'value': '2353.234'}, {'date': '1943-01-01', 'value': '2179.879'}, {'date': '1942-01-01', 'value': '1862.772'}, {'date': '1941-01-01', 'value': '1566.848'}, {'date': '1940-01-01', 'value': '1331.06'}, {'date': '1939-01-01', 'value': '1223.21'}, {'date': '1938-01-01', 'value': '1132.338'}, {'date': '1937-01-01', 'value': '1171.144'}, {'date': '1936-01-01', 'value': '1114.052'}, {'date': '1935-01-01', 'value': '986.905'}, {'date': '1934-01-01', 'value': '906.213'}, {'date': '1933-01-01', 'value': '817.824'}, {'date': '1932-01-01', 'value': '828.061'}, {'date': '1931-01-01', 'value': '950.686'}, {'date': '1930-01-01', 'value': '1015.751'}, {'date': '1929-01-01', 'value': '1110.206'}]\n"
          ]
        }
      ]
    },
    {
      "cell_type": "code",
      "source": [
        "pd.DataFrame(data_list)"
      ],
      "metadata": {
        "colab": {
          "base_uri": "https://localhost:8080/",
          "height": 423
        },
        "id": "sUxQfxwiJB5i",
        "outputId": "6c1e7788-fd0c-4045-f2d0-f5a72e932722"
      },
      "execution_count": 36,
      "outputs": [
        {
          "output_type": "execute_result",
          "data": {
            "text/plain": [
              "          date      value\n",
              "0   2021-01-01  19427.287\n",
              "1   2020-01-01  18384.687\n",
              "2   2019-01-01  19032.672\n",
              "3   2018-01-01  18606.787\n",
              "4   2017-01-01  18079.084\n",
              "..         ...        ...\n",
              "88  1933-01-01    817.824\n",
              "89  1932-01-01    828.061\n",
              "90  1931-01-01    950.686\n",
              "91  1930-01-01   1015.751\n",
              "92  1929-01-01   1110.206\n",
              "\n",
              "[93 rows x 2 columns]"
            ],
            "text/html": [
              "\n",
              "  <div id=\"df-63e5fd24-999a-4178-bda8-233c60829e6b\">\n",
              "    <div class=\"colab-df-container\">\n",
              "      <div>\n",
              "<style scoped>\n",
              "    .dataframe tbody tr th:only-of-type {\n",
              "        vertical-align: middle;\n",
              "    }\n",
              "\n",
              "    .dataframe tbody tr th {\n",
              "        vertical-align: top;\n",
              "    }\n",
              "\n",
              "    .dataframe thead th {\n",
              "        text-align: right;\n",
              "    }\n",
              "</style>\n",
              "<table border=\"1\" class=\"dataframe\">\n",
              "  <thead>\n",
              "    <tr style=\"text-align: right;\">\n",
              "      <th></th>\n",
              "      <th>date</th>\n",
              "      <th>value</th>\n",
              "    </tr>\n",
              "  </thead>\n",
              "  <tbody>\n",
              "    <tr>\n",
              "      <th>0</th>\n",
              "      <td>2021-01-01</td>\n",
              "      <td>19427.287</td>\n",
              "    </tr>\n",
              "    <tr>\n",
              "      <th>1</th>\n",
              "      <td>2020-01-01</td>\n",
              "      <td>18384.687</td>\n",
              "    </tr>\n",
              "    <tr>\n",
              "      <th>2</th>\n",
              "      <td>2019-01-01</td>\n",
              "      <td>19032.672</td>\n",
              "    </tr>\n",
              "    <tr>\n",
              "      <th>3</th>\n",
              "      <td>2018-01-01</td>\n",
              "      <td>18606.787</td>\n",
              "    </tr>\n",
              "    <tr>\n",
              "      <th>4</th>\n",
              "      <td>2017-01-01</td>\n",
              "      <td>18079.084</td>\n",
              "    </tr>\n",
              "    <tr>\n",
              "      <th>...</th>\n",
              "      <td>...</td>\n",
              "      <td>...</td>\n",
              "    </tr>\n",
              "    <tr>\n",
              "      <th>88</th>\n",
              "      <td>1933-01-01</td>\n",
              "      <td>817.824</td>\n",
              "    </tr>\n",
              "    <tr>\n",
              "      <th>89</th>\n",
              "      <td>1932-01-01</td>\n",
              "      <td>828.061</td>\n",
              "    </tr>\n",
              "    <tr>\n",
              "      <th>90</th>\n",
              "      <td>1931-01-01</td>\n",
              "      <td>950.686</td>\n",
              "    </tr>\n",
              "    <tr>\n",
              "      <th>91</th>\n",
              "      <td>1930-01-01</td>\n",
              "      <td>1015.751</td>\n",
              "    </tr>\n",
              "    <tr>\n",
              "      <th>92</th>\n",
              "      <td>1929-01-01</td>\n",
              "      <td>1110.206</td>\n",
              "    </tr>\n",
              "  </tbody>\n",
              "</table>\n",
              "<p>93 rows × 2 columns</p>\n",
              "</div>\n",
              "      <button class=\"colab-df-convert\" onclick=\"convertToInteractive('df-63e5fd24-999a-4178-bda8-233c60829e6b')\"\n",
              "              title=\"Convert this dataframe to an interactive table.\"\n",
              "              style=\"display:none;\">\n",
              "        \n",
              "  <svg xmlns=\"http://www.w3.org/2000/svg\" height=\"24px\"viewBox=\"0 0 24 24\"\n",
              "       width=\"24px\">\n",
              "    <path d=\"M0 0h24v24H0V0z\" fill=\"none\"/>\n",
              "    <path d=\"M18.56 5.44l.94 2.06.94-2.06 2.06-.94-2.06-.94-.94-2.06-.94 2.06-2.06.94zm-11 1L8.5 8.5l.94-2.06 2.06-.94-2.06-.94L8.5 2.5l-.94 2.06-2.06.94zm10 10l.94 2.06.94-2.06 2.06-.94-2.06-.94-.94-2.06-.94 2.06-2.06.94z\"/><path d=\"M17.41 7.96l-1.37-1.37c-.4-.4-.92-.59-1.43-.59-.52 0-1.04.2-1.43.59L10.3 9.45l-7.72 7.72c-.78.78-.78 2.05 0 2.83L4 21.41c.39.39.9.59 1.41.59.51 0 1.02-.2 1.41-.59l7.78-7.78 2.81-2.81c.8-.78.8-2.07 0-2.86zM5.41 20L4 18.59l7.72-7.72 1.47 1.35L5.41 20z\"/>\n",
              "  </svg>\n",
              "      </button>\n",
              "      \n",
              "  <style>\n",
              "    .colab-df-container {\n",
              "      display:flex;\n",
              "      flex-wrap:wrap;\n",
              "      gap: 12px;\n",
              "    }\n",
              "\n",
              "    .colab-df-convert {\n",
              "      background-color: #E8F0FE;\n",
              "      border: none;\n",
              "      border-radius: 50%;\n",
              "      cursor: pointer;\n",
              "      display: none;\n",
              "      fill: #1967D2;\n",
              "      height: 32px;\n",
              "      padding: 0 0 0 0;\n",
              "      width: 32px;\n",
              "    }\n",
              "\n",
              "    .colab-df-convert:hover {\n",
              "      background-color: #E2EBFA;\n",
              "      box-shadow: 0px 1px 2px rgba(60, 64, 67, 0.3), 0px 1px 3px 1px rgba(60, 64, 67, 0.15);\n",
              "      fill: #174EA6;\n",
              "    }\n",
              "\n",
              "    [theme=dark] .colab-df-convert {\n",
              "      background-color: #3B4455;\n",
              "      fill: #D2E3FC;\n",
              "    }\n",
              "\n",
              "    [theme=dark] .colab-df-convert:hover {\n",
              "      background-color: #434B5C;\n",
              "      box-shadow: 0px 1px 3px 1px rgba(0, 0, 0, 0.15);\n",
              "      filter: drop-shadow(0px 1px 2px rgba(0, 0, 0, 0.3));\n",
              "      fill: #FFFFFF;\n",
              "    }\n",
              "  </style>\n",
              "\n",
              "      <script>\n",
              "        const buttonEl =\n",
              "          document.querySelector('#df-63e5fd24-999a-4178-bda8-233c60829e6b button.colab-df-convert');\n",
              "        buttonEl.style.display =\n",
              "          google.colab.kernel.accessAllowed ? 'block' : 'none';\n",
              "\n",
              "        async function convertToInteractive(key) {\n",
              "          const element = document.querySelector('#df-63e5fd24-999a-4178-bda8-233c60829e6b');\n",
              "          const dataTable =\n",
              "            await google.colab.kernel.invokeFunction('convertToInteractive',\n",
              "                                                     [key], {});\n",
              "          if (!dataTable) return;\n",
              "\n",
              "          const docLinkHtml = 'Like what you see? Visit the ' +\n",
              "            '<a target=\"_blank\" href=https://colab.research.google.com/notebooks/data_table.ipynb>data table notebook</a>'\n",
              "            + ' to learn more about interactive tables.';\n",
              "          element.innerHTML = '';\n",
              "          dataTable['output_type'] = 'display_data';\n",
              "          await google.colab.output.renderOutput(dataTable, element);\n",
              "          const docLink = document.createElement('div');\n",
              "          docLink.innerHTML = docLinkHtml;\n",
              "          element.appendChild(docLink);\n",
              "        }\n",
              "      </script>\n",
              "    </div>\n",
              "  </div>\n",
              "  "
            ]
          },
          "metadata": {},
          "execution_count": 36
        }
      ]
    },
    {
      "cell_type": "code",
      "source": [
        "import matplotlib.pyplot as plt"
      ],
      "metadata": {
        "id": "CFGNrV-iVOax"
      },
      "execution_count": 37,
      "outputs": []
    },
    {
      "cell_type": "code",
      "source": [
        ""
      ],
      "metadata": {
        "id": "mPqgWrJ1Wt7N"
      },
      "execution_count": null,
      "outputs": []
    }
  ]
}